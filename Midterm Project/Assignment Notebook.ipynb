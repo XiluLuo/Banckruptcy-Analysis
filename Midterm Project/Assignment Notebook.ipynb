{
 "cells": [
  {
   "cell_type": "markdown",
   "metadata": {},
   "source": [
    "# Assignment Notebook"
   ]
  },
  {
   "cell_type": "code",
   "execution_count": 1,
   "metadata": {},
   "outputs": [],
   "source": [
    "## Standard imports\n",
    "import numpy as np\n",
    "import pandas as pd\n",
    "import matplotlib.pyplot as plt\n",
    "\n",
    "import sklearn\n",
    "\n",
    "import os\n",
    "import math\n",
    "\n",
    "%matplotlib inline\n",
    "\n",
    "## Load the bankruptcy_helper module\n",
    "\n",
    "from IPython.core.interactiveshell import InteractiveShell\n",
    "InteractiveShell.ast_node_interactivity = \"all\"\n",
    "\n",
    "# Reload all modules imported with %aimport\n",
    "%load_ext autoreload\n",
    "%autoreload 1\n",
    "\n",
    "# Import bankruptcy_helper module\n",
    "import bankruptcy_helper\n",
    "%aimport bankruptcy_helper\n",
    "\n",
    "helper = bankruptcy_helper.Helper()"
   ]
  },
  {
   "cell_type": "markdown",
   "metadata": {},
   "source": [
    "# Recipe Step A: Get the data"
   ]
  },
  {
   "cell_type": "markdown",
   "metadata": {},
   "source": [
    "## Frame the problem"
   ]
  },
  {
   "cell_type": "markdown",
   "metadata": {},
   "source": [
    "We want to predict whether a company will go bankrupt in the following year, based on financial attributes of the company.\n",
    "\n",
    "To predict this, we gather many companies' financial attributes and their bankrupt information."
   ]
  },
  {
   "cell_type": "markdown",
   "metadata": {},
   "source": [
    "## A.1 Get the data"
   ]
  },
  {
   "cell_type": "code",
   "execution_count": 2,
   "metadata": {},
   "outputs": [
    {
     "name": "stdout",
     "output_type": "stream",
     "text": [
      "Date shape:  (4818, 66)\n"
     ]
    }
   ],
   "source": [
    "# Data directory\n",
    "DATA_DIR = \"./Data\"\n",
    "\n",
    "if not os.path.isdir(DATA_DIR):\n",
    "    DATA_DIR = \"../resource/asnlib/publicdata/bankruptcy/data\"\n",
    "\n",
    "data_file = \"5th_yr.csv\"\n",
    "data = pd.read_csv( os.path.join(DATA_DIR, \"train\", data_file) )\n",
    "\n",
    "target_attr = \"Bankrupt\"\n",
    "\n",
    "n_samples, n_attrs = data.shape\n",
    "print(\"Date shape: \", data.shape)"
   ]
  },
  {
   "cell_type": "markdown",
   "metadata": {},
   "source": [
    "## A.2 Have a look at the data"
   ]
  },
  {
   "cell_type": "code",
   "execution_count": 3,
   "metadata": {},
   "outputs": [
    {
     "data": {
      "text/html": [
       "<div>\n",
       "<style scoped>\n",
       "    .dataframe tbody tr th:only-of-type {\n",
       "        vertical-align: middle;\n",
       "    }\n",
       "\n",
       "    .dataframe tbody tr th {\n",
       "        vertical-align: top;\n",
       "    }\n",
       "\n",
       "    .dataframe thead th {\n",
       "        text-align: right;\n",
       "    }\n",
       "</style>\n",
       "<table border=\"1\" class=\"dataframe\">\n",
       "  <thead>\n",
       "    <tr style=\"text-align: right;\">\n",
       "      <th></th>\n",
       "      <th>X1</th>\n",
       "      <th>X2</th>\n",
       "      <th>X3</th>\n",
       "      <th>X4</th>\n",
       "      <th>X5</th>\n",
       "      <th>X6</th>\n",
       "      <th>X7</th>\n",
       "      <th>X8</th>\n",
       "      <th>X9</th>\n",
       "      <th>X10</th>\n",
       "      <th>...</th>\n",
       "      <th>X57</th>\n",
       "      <th>X58</th>\n",
       "      <th>X59</th>\n",
       "      <th>X60</th>\n",
       "      <th>X61</th>\n",
       "      <th>X62</th>\n",
       "      <th>X63</th>\n",
       "      <th>X64</th>\n",
       "      <th>Bankrupt</th>\n",
       "      <th>Id</th>\n",
       "    </tr>\n",
       "  </thead>\n",
       "  <tbody>\n",
       "    <tr>\n",
       "      <th>0</th>\n",
       "      <td>0.025417</td>\n",
       "      <td>0.41769</td>\n",
       "      <td>0.0568</td>\n",
       "      <td>1.1605</td>\n",
       "      <td>-126.39</td>\n",
       "      <td>0.41355</td>\n",
       "      <td>0.025417</td>\n",
       "      <td>1.2395</td>\n",
       "      <td>1.16500</td>\n",
       "      <td>0.51773</td>\n",
       "      <td>...</td>\n",
       "      <td>0.049094</td>\n",
       "      <td>0.85835</td>\n",
       "      <td>0.12322</td>\n",
       "      <td>5.6167</td>\n",
       "      <td>7.4042</td>\n",
       "      <td>164.3100</td>\n",
       "      <td>2.2214</td>\n",
       "      <td>1.334</td>\n",
       "      <td>0</td>\n",
       "      <td>4510</td>\n",
       "    </tr>\n",
       "    <tr>\n",
       "      <th>1</th>\n",
       "      <td>-0.023834</td>\n",
       "      <td>0.2101</td>\n",
       "      <td>0.50839</td>\n",
       "      <td>4.2374</td>\n",
       "      <td>22.034</td>\n",
       "      <td>0.058412</td>\n",
       "      <td>-0.027621</td>\n",
       "      <td>3.6579</td>\n",
       "      <td>0.98183</td>\n",
       "      <td>0.76855</td>\n",
       "      <td>...</td>\n",
       "      <td>-0.031011</td>\n",
       "      <td>1.01850</td>\n",
       "      <td>0.069047</td>\n",
       "      <td>5.7996</td>\n",
       "      <td>7.7529</td>\n",
       "      <td>26.4460</td>\n",
       "      <td>13.802</td>\n",
       "      <td>6.4782</td>\n",
       "      <td>0</td>\n",
       "      <td>3537</td>\n",
       "    </tr>\n",
       "    <tr>\n",
       "      <th>2</th>\n",
       "      <td>0.030515</td>\n",
       "      <td>0.44606</td>\n",
       "      <td>0.19569</td>\n",
       "      <td>1.565</td>\n",
       "      <td>35.766</td>\n",
       "      <td>0.28196</td>\n",
       "      <td>0.039264</td>\n",
       "      <td>0.88456</td>\n",
       "      <td>1.05260</td>\n",
       "      <td>0.39457</td>\n",
       "      <td>...</td>\n",
       "      <td>0.077337</td>\n",
       "      <td>0.95006</td>\n",
       "      <td>0.25266</td>\n",
       "      <td>15.049</td>\n",
       "      <td>2.8179</td>\n",
       "      <td>104.7300</td>\n",
       "      <td>3.4852</td>\n",
       "      <td>2.6361</td>\n",
       "      <td>0</td>\n",
       "      <td>3920</td>\n",
       "    </tr>\n",
       "    <tr>\n",
       "      <th>3</th>\n",
       "      <td>0.052318</td>\n",
       "      <td>0.056366</td>\n",
       "      <td>0.54562</td>\n",
       "      <td>10.68</td>\n",
       "      <td>438.2</td>\n",
       "      <td>0.13649</td>\n",
       "      <td>0.058164</td>\n",
       "      <td>10.853</td>\n",
       "      <td>1.02790</td>\n",
       "      <td>0.61173</td>\n",
       "      <td>...</td>\n",
       "      <td>0.085524</td>\n",
       "      <td>0.97282</td>\n",
       "      <td>0</td>\n",
       "      <td>6.0157</td>\n",
       "      <td>7.4626</td>\n",
       "      <td>48.7560</td>\n",
       "      <td>7.4863</td>\n",
       "      <td>1.0602</td>\n",
       "      <td>0</td>\n",
       "      <td>1806</td>\n",
       "    </tr>\n",
       "    <tr>\n",
       "      <th>4</th>\n",
       "      <td>0.000992</td>\n",
       "      <td>0.49712</td>\n",
       "      <td>0.12316</td>\n",
       "      <td>1.3036</td>\n",
       "      <td>-71.398</td>\n",
       "      <td>0</td>\n",
       "      <td>0.001007</td>\n",
       "      <td>1.0116</td>\n",
       "      <td>1.29210</td>\n",
       "      <td>0.50288</td>\n",
       "      <td>...</td>\n",
       "      <td>0.001974</td>\n",
       "      <td>0.99925</td>\n",
       "      <td>0.019736</td>\n",
       "      <td>3.4819</td>\n",
       "      <td>8.582</td>\n",
       "      <td>114.5800</td>\n",
       "      <td>3.1854</td>\n",
       "      <td>2.742</td>\n",
       "      <td>0</td>\n",
       "      <td>1529</td>\n",
       "    </tr>\n",
       "    <tr>\n",
       "      <th>...</th>\n",
       "      <td>...</td>\n",
       "      <td>...</td>\n",
       "      <td>...</td>\n",
       "      <td>...</td>\n",
       "      <td>...</td>\n",
       "      <td>...</td>\n",
       "      <td>...</td>\n",
       "      <td>...</td>\n",
       "      <td>...</td>\n",
       "      <td>...</td>\n",
       "      <td>...</td>\n",
       "      <td>...</td>\n",
       "      <td>...</td>\n",
       "      <td>...</td>\n",
       "      <td>...</td>\n",
       "      <td>...</td>\n",
       "      <td>...</td>\n",
       "      <td>...</td>\n",
       "      <td>...</td>\n",
       "      <td>...</td>\n",
       "      <td>...</td>\n",
       "    </tr>\n",
       "    <tr>\n",
       "      <th>4813</th>\n",
       "      <td>0.21199</td>\n",
       "      <td>0.20585</td>\n",
       "      <td>0.1417</td>\n",
       "      <td>1.7941</td>\n",
       "      <td>72.981</td>\n",
       "      <td>0</td>\n",
       "      <td>0.26531</td>\n",
       "      <td>3.8579</td>\n",
       "      <td>0.98420</td>\n",
       "      <td>0.79415</td>\n",
       "      <td>...</td>\n",
       "      <td>0.26694</td>\n",
       "      <td>0.73275</td>\n",
       "      <td>0.022101</td>\n",
       "      <td>?</td>\n",
       "      <td>3.5081</td>\n",
       "      <td>66.1710</td>\n",
       "      <td>5.516</td>\n",
       "      <td>1.4476</td>\n",
       "      <td>0</td>\n",
       "      <td>1985</td>\n",
       "    </tr>\n",
       "    <tr>\n",
       "      <th>4814</th>\n",
       "      <td>0.3119</td>\n",
       "      <td>0.09958</td>\n",
       "      <td>0.57936</td>\n",
       "      <td>10.679</td>\n",
       "      <td>245.98</td>\n",
       "      <td>0</td>\n",
       "      <td>0.31317</td>\n",
       "      <td>9.0422</td>\n",
       "      <td>1.05160</td>\n",
       "      <td>0.90042</td>\n",
       "      <td>...</td>\n",
       "      <td>0.3464</td>\n",
       "      <td>0.70705</td>\n",
       "      <td>0.044114</td>\n",
       "      <td>14.018</td>\n",
       "      <td>7.0618</td>\n",
       "      <td>20.7760</td>\n",
       "      <td>17.568</td>\n",
       "      <td>2.9149</td>\n",
       "      <td>0</td>\n",
       "      <td>3963</td>\n",
       "    </tr>\n",
       "    <tr>\n",
       "      <th>4815</th>\n",
       "      <td>-0.029746</td>\n",
       "      <td>0.44898</td>\n",
       "      <td>0.39136</td>\n",
       "      <td>1.9388</td>\n",
       "      <td>7.8073</td>\n",
       "      <td>-0.020006</td>\n",
       "      <td>-0.030561</td>\n",
       "      <td>1.2259</td>\n",
       "      <td>1.00010</td>\n",
       "      <td>0.5504</td>\n",
       "      <td>...</td>\n",
       "      <td>-0.054046</td>\n",
       "      <td>0.99986</td>\n",
       "      <td>0.058336</td>\n",
       "      <td>15.547</td>\n",
       "      <td>8.7022</td>\n",
       "      <td>34.3700</td>\n",
       "      <td>10.62</td>\n",
       "      <td>23.086</td>\n",
       "      <td>0</td>\n",
       "      <td>4167</td>\n",
       "    </tr>\n",
       "    <tr>\n",
       "      <th>4816</th>\n",
       "      <td>0.28473</td>\n",
       "      <td>0.079573</td>\n",
       "      <td>0.46261</td>\n",
       "      <td>6.8137</td>\n",
       "      <td>-81.158</td>\n",
       "      <td>-0.79551</td>\n",
       "      <td>0.28473</td>\n",
       "      <td>11.567</td>\n",
       "      <td>6.07180</td>\n",
       "      <td>0.92043</td>\n",
       "      <td>...</td>\n",
       "      <td>0.30935</td>\n",
       "      <td>0.19889</td>\n",
       "      <td>0</td>\n",
       "      <td>?</td>\n",
       "      <td>28.5</td>\n",
       "      <td>4.7834</td>\n",
       "      <td>76.305</td>\n",
       "      <td>13.263</td>\n",
       "      <td>0</td>\n",
       "      <td>1579</td>\n",
       "    </tr>\n",
       "    <tr>\n",
       "      <th>4817</th>\n",
       "      <td>0.12009</td>\n",
       "      <td>0.63072</td>\n",
       "      <td>-0.10501</td>\n",
       "      <td>0.81336</td>\n",
       "      <td>-43.226</td>\n",
       "      <td>-0.17492</td>\n",
       "      <td>0.15424</td>\n",
       "      <td>0.5855</td>\n",
       "      <td>3.19900</td>\n",
       "      <td>0.36928</td>\n",
       "      <td>...</td>\n",
       "      <td>0.3252</td>\n",
       "      <td>0.04347</td>\n",
       "      <td>0</td>\n",
       "      <td>12.825</td>\n",
       "      <td>16.441</td>\n",
       "      <td>64.1950</td>\n",
       "      <td>5.6858</td>\n",
       "      <td>5.8982</td>\n",
       "      <td>0</td>\n",
       "      <td>3294</td>\n",
       "    </tr>\n",
       "  </tbody>\n",
       "</table>\n",
       "<p>4818 rows × 66 columns</p>\n",
       "</div>"
      ],
      "text/plain": [
       "             X1        X2        X3       X4       X5         X6         X7  \\\n",
       "0      0.025417   0.41769    0.0568   1.1605  -126.39    0.41355   0.025417   \n",
       "1     -0.023834    0.2101   0.50839   4.2374   22.034   0.058412  -0.027621   \n",
       "2      0.030515   0.44606   0.19569    1.565   35.766    0.28196   0.039264   \n",
       "3      0.052318  0.056366   0.54562    10.68    438.2    0.13649   0.058164   \n",
       "4      0.000992   0.49712   0.12316   1.3036  -71.398          0   0.001007   \n",
       "...         ...       ...       ...      ...      ...        ...        ...   \n",
       "4813    0.21199   0.20585    0.1417   1.7941   72.981          0    0.26531   \n",
       "4814     0.3119   0.09958   0.57936   10.679   245.98          0    0.31317   \n",
       "4815  -0.029746   0.44898   0.39136   1.9388   7.8073  -0.020006  -0.030561   \n",
       "4816    0.28473  0.079573   0.46261   6.8137  -81.158   -0.79551    0.28473   \n",
       "4817    0.12009   0.63072  -0.10501  0.81336  -43.226   -0.17492    0.15424   \n",
       "\n",
       "           X8       X9      X10  ...        X57      X58       X59     X60  \\\n",
       "0      1.2395  1.16500  0.51773  ...   0.049094  0.85835   0.12322  5.6167   \n",
       "1      3.6579  0.98183  0.76855  ...  -0.031011  1.01850  0.069047  5.7996   \n",
       "2     0.88456  1.05260  0.39457  ...   0.077337  0.95006   0.25266  15.049   \n",
       "3      10.853  1.02790  0.61173  ...   0.085524  0.97282         0  6.0157   \n",
       "4      1.0116  1.29210  0.50288  ...   0.001974  0.99925  0.019736  3.4819   \n",
       "...       ...      ...      ...  ...        ...      ...       ...     ...   \n",
       "4813   3.8579  0.98420  0.79415  ...    0.26694  0.73275  0.022101       ?   \n",
       "4814   9.0422  1.05160  0.90042  ...     0.3464  0.70705  0.044114  14.018   \n",
       "4815   1.2259  1.00010   0.5504  ...  -0.054046  0.99986  0.058336  15.547   \n",
       "4816   11.567  6.07180  0.92043  ...    0.30935  0.19889         0       ?   \n",
       "4817   0.5855  3.19900  0.36928  ...     0.3252  0.04347         0  12.825   \n",
       "\n",
       "         X61       X62     X63     X64  Bankrupt    Id  \n",
       "0     7.4042  164.3100  2.2214   1.334         0  4510  \n",
       "1     7.7529   26.4460  13.802  6.4782         0  3537  \n",
       "2     2.8179  104.7300  3.4852  2.6361         0  3920  \n",
       "3     7.4626   48.7560  7.4863  1.0602         0  1806  \n",
       "4      8.582  114.5800  3.1854   2.742         0  1529  \n",
       "...      ...       ...     ...     ...       ...   ...  \n",
       "4813  3.5081   66.1710   5.516  1.4476         0  1985  \n",
       "4814  7.0618   20.7760  17.568  2.9149         0  3963  \n",
       "4815  8.7022   34.3700   10.62  23.086         0  4167  \n",
       "4816    28.5    4.7834  76.305  13.263         0  1579  \n",
       "4817  16.441   64.1950  5.6858  5.8982         0  3294  \n",
       "\n",
       "[4818 rows x 66 columns]"
      ]
     },
     "execution_count": 3,
     "metadata": {},
     "output_type": "execute_result"
    },
    {
     "name": "stdout",
     "output_type": "stream",
     "text": [
      "<class 'pandas.core.frame.DataFrame'>\n",
      "RangeIndex: 4818 entries, 0 to 4817\n",
      "Data columns (total 66 columns):\n",
      " #   Column    Non-Null Count  Dtype  \n",
      "---  ------    --------------  -----  \n",
      " 0   X1        4818 non-null   object \n",
      " 1   X2        4818 non-null   object \n",
      " 2   X3        4818 non-null   object \n",
      " 3   X4        4818 non-null   object \n",
      " 4   X5        4818 non-null   object \n",
      " 5   X6        4818 non-null   object \n",
      " 6   X7        4818 non-null   object \n",
      " 7   X8        4818 non-null   object \n",
      " 8   X9        4818 non-null   float64\n",
      " 9   X10       4818 non-null   object \n",
      " 10  X11       4818 non-null   object \n",
      " 11  X12       4818 non-null   object \n",
      " 12  X13       4818 non-null   float64\n",
      " 13  X14       4818 non-null   object \n",
      " 14  X15       4818 non-null   object \n",
      " 15  X16       4818 non-null   object \n",
      " 16  X17       4818 non-null   object \n",
      " 17  X18       4818 non-null   object \n",
      " 18  X19       4818 non-null   float64\n",
      " 19  X20       4818 non-null   float64\n",
      " 20  X21       4818 non-null   object \n",
      " 21  X22       4818 non-null   object \n",
      " 22  X23       4818 non-null   float64\n",
      " 23  X24       4818 non-null   object \n",
      " 24  X25       4818 non-null   object \n",
      " 25  X26       4818 non-null   object \n",
      " 26  X27       4818 non-null   object \n",
      " 27  X28       4818 non-null   object \n",
      " 28  X29       4818 non-null   object \n",
      " 29  X30       4818 non-null   float64\n",
      " 30  X31       4818 non-null   float64\n",
      " 31  X32       4818 non-null   object \n",
      " 32  X33       4818 non-null   object \n",
      " 33  X34       4818 non-null   object \n",
      " 34  X35       4818 non-null   object \n",
      " 35  X36       4818 non-null   object \n",
      " 36  X37       4818 non-null   object \n",
      " 37  X38       4818 non-null   object \n",
      " 38  X39       4818 non-null   float64\n",
      " 39  X40       4818 non-null   object \n",
      " 40  X41       4818 non-null   object \n",
      " 41  X42       4818 non-null   float64\n",
      " 42  X43       4818 non-null   float64\n",
      " 43  X44       4818 non-null   float64\n",
      " 44  X45       4818 non-null   object \n",
      " 45  X46       4818 non-null   object \n",
      " 46  X47       4818 non-null   object \n",
      " 47  X48       4818 non-null   object \n",
      " 48  X49       4818 non-null   float64\n",
      " 49  X50       4818 non-null   object \n",
      " 50  X51       4818 non-null   object \n",
      " 51  X52       4818 non-null   object \n",
      " 52  X53       4818 non-null   object \n",
      " 53  X54       4818 non-null   object \n",
      " 54  X55       4818 non-null   float64\n",
      " 55  X56       4818 non-null   float64\n",
      " 56  X57       4818 non-null   object \n",
      " 57  X58       4818 non-null   float64\n",
      " 58  X59       4818 non-null   object \n",
      " 59  X60       4818 non-null   object \n",
      " 60  X61       4818 non-null   object \n",
      " 61  X62       4818 non-null   float64\n",
      " 62  X63       4818 non-null   object \n",
      " 63  X64       4818 non-null   object \n",
      " 64  Bankrupt  4818 non-null   int64  \n",
      " 65  Id        4818 non-null   int64  \n",
      "dtypes: float64(16), int64(2), object(48)\n",
      "memory usage: 2.4+ MB\n"
     ]
    }
   ],
   "source": [
    "data\n",
    "data.info()"
   ]
  },
  {
   "cell_type": "markdown",
   "metadata": {},
   "source": [
    "Most data types are object, need to turn them to number."
   ]
  },
  {
   "cell_type": "code",
   "execution_count": 4,
   "metadata": {},
   "outputs": [
    {
     "name": "stdout",
     "output_type": "stream",
     "text": [
      "<class 'pandas.core.frame.DataFrame'>\n",
      "RangeIndex: 4818 entries, 0 to 4817\n",
      "Data columns (total 66 columns):\n",
      " #   Column    Non-Null Count  Dtype  \n",
      "---  ------    --------------  -----  \n",
      " 0   X1        4816 non-null   float64\n",
      " 1   X2        4816 non-null   float64\n",
      " 2   X3        4816 non-null   float64\n",
      " 3   X4        4803 non-null   float64\n",
      " 4   X5        4808 non-null   float64\n",
      " 5   X6        4816 non-null   float64\n",
      " 6   X7        4816 non-null   float64\n",
      " 7   X8        4804 non-null   float64\n",
      " 8   X9        4818 non-null   float64\n",
      " 9   X10       4816 non-null   float64\n",
      " 10  X11       4816 non-null   float64\n",
      " 11  X12       4803 non-null   float64\n",
      " 12  X13       4818 non-null   float64\n",
      " 13  X14       4816 non-null   float64\n",
      " 14  X15       4812 non-null   float64\n",
      " 15  X16       4804 non-null   float64\n",
      " 16  X17       4804 non-null   float64\n",
      " 17  X18       4816 non-null   float64\n",
      " 18  X19       4818 non-null   float64\n",
      " 19  X20       4818 non-null   float64\n",
      " 20  X21       4744 non-null   float64\n",
      " 21  X22       4816 non-null   float64\n",
      " 22  X23       4818 non-null   float64\n",
      " 23  X24       4702 non-null   float64\n",
      " 24  X25       4816 non-null   float64\n",
      " 25  X26       4804 non-null   float64\n",
      " 26  X27       4513 non-null   float64\n",
      " 27  X28       4735 non-null   float64\n",
      " 28  X29       4816 non-null   float64\n",
      " 29  X30       4818 non-null   float64\n",
      " 30  X31       4818 non-null   float64\n",
      " 31  X32       4776 non-null   float64\n",
      " 32  X33       4803 non-null   float64\n",
      " 33  X34       4804 non-null   float64\n",
      " 34  X35       4816 non-null   float64\n",
      " 35  X36       4816 non-null   float64\n",
      " 36  X37       2750 non-null   float64\n",
      " 37  X38       4816 non-null   float64\n",
      " 38  X39       4818 non-null   float64\n",
      " 39  X40       4803 non-null   float64\n",
      " 40  X41       4756 non-null   float64\n",
      " 41  X42       4818 non-null   float64\n",
      " 42  X43       4818 non-null   float64\n",
      " 43  X44       4818 non-null   float64\n",
      " 44  X45       4598 non-null   float64\n",
      " 45  X46       4803 non-null   float64\n",
      " 46  X47       4787 non-null   float64\n",
      " 47  X48       4816 non-null   float64\n",
      " 48  X49       4818 non-null   float64\n",
      " 49  X50       4804 non-null   float64\n",
      " 50  X51       4816 non-null   float64\n",
      " 51  X52       4786 non-null   float64\n",
      " 52  X53       4735 non-null   float64\n",
      " 53  X54       4735 non-null   float64\n",
      " 54  X55       4818 non-null   float64\n",
      " 55  X56       4818 non-null   float64\n",
      " 56  X57       4816 non-null   float64\n",
      " 57  X58       4818 non-null   float64\n",
      " 58  X59       4816 non-null   float64\n",
      " 59  X60       4598 non-null   float64\n",
      " 60  X61       4806 non-null   float64\n",
      " 61  X62       4818 non-null   float64\n",
      " 62  X63       4803 non-null   float64\n",
      " 63  X64       4735 non-null   float64\n",
      " 64  Bankrupt  4818 non-null   int64  \n",
      " 65  Id        4818 non-null   int64  \n",
      "dtypes: float64(64), int64(2)\n",
      "memory usage: 2.4 MB\n"
     ]
    }
   ],
   "source": [
    "data=data.apply(pd.to_numeric, errors='coerce')\n",
    "data.info()"
   ]
  },
  {
   "cell_type": "markdown",
   "metadata": {},
   "source": [
    "After turning the type, we can have a look at the describtion of the data."
   ]
  },
  {
   "cell_type": "code",
   "execution_count": 5,
   "metadata": {},
   "outputs": [
    {
     "data": {
      "text/html": [
       "<div>\n",
       "<style scoped>\n",
       "    .dataframe tbody tr th:only-of-type {\n",
       "        vertical-align: middle;\n",
       "    }\n",
       "\n",
       "    .dataframe tbody tr th {\n",
       "        vertical-align: top;\n",
       "    }\n",
       "\n",
       "    .dataframe thead th {\n",
       "        text-align: right;\n",
       "    }\n",
       "</style>\n",
       "<table border=\"1\" class=\"dataframe\">\n",
       "  <thead>\n",
       "    <tr style=\"text-align: right;\">\n",
       "      <th></th>\n",
       "      <th>X1</th>\n",
       "      <th>X2</th>\n",
       "      <th>X3</th>\n",
       "      <th>X4</th>\n",
       "      <th>X5</th>\n",
       "      <th>X6</th>\n",
       "      <th>X7</th>\n",
       "      <th>X8</th>\n",
       "      <th>X9</th>\n",
       "      <th>X10</th>\n",
       "      <th>...</th>\n",
       "      <th>X57</th>\n",
       "      <th>X58</th>\n",
       "      <th>X59</th>\n",
       "      <th>X60</th>\n",
       "      <th>X61</th>\n",
       "      <th>X62</th>\n",
       "      <th>X63</th>\n",
       "      <th>X64</th>\n",
       "      <th>Bankrupt</th>\n",
       "      <th>Id</th>\n",
       "    </tr>\n",
       "  </thead>\n",
       "  <tbody>\n",
       "    <tr>\n",
       "      <th>count</th>\n",
       "      <td>4816.000000</td>\n",
       "      <td>4816.000000</td>\n",
       "      <td>4816.000000</td>\n",
       "      <td>4803.000000</td>\n",
       "      <td>4.808000e+03</td>\n",
       "      <td>4816.000000</td>\n",
       "      <td>4816.000000</td>\n",
       "      <td>4804.000000</td>\n",
       "      <td>4818.000000</td>\n",
       "      <td>4816.000000</td>\n",
       "      <td>...</td>\n",
       "      <td>4816.000000</td>\n",
       "      <td>4818.000000</td>\n",
       "      <td>4816.000000</td>\n",
       "      <td>4.598000e+03</td>\n",
       "      <td>4806.000000</td>\n",
       "      <td>4818.000000</td>\n",
       "      <td>4803.000000</td>\n",
       "      <td>4735.000000</td>\n",
       "      <td>4818.000000</td>\n",
       "      <td>4818.000000</td>\n",
       "    </tr>\n",
       "    <tr>\n",
       "      <th>mean</th>\n",
       "      <td>-0.055232</td>\n",
       "      <td>0.533272</td>\n",
       "      <td>0.188992</td>\n",
       "      <td>4.978602</td>\n",
       "      <td>1.956441e+01</td>\n",
       "      <td>-0.070060</td>\n",
       "      <td>-0.042516</td>\n",
       "      <td>5.739985</td>\n",
       "      <td>1.579277</td>\n",
       "      <td>0.503606</td>\n",
       "      <td>...</td>\n",
       "      <td>0.022793</td>\n",
       "      <td>0.959585</td>\n",
       "      <td>0.273025</td>\n",
       "      <td>1.108795e+03</td>\n",
       "      <td>11.021303</td>\n",
       "      <td>177.494445</td>\n",
       "      <td>9.287631</td>\n",
       "      <td>38.557533</td>\n",
       "      <td>0.063927</td>\n",
       "      <td>3499.858032</td>\n",
       "    </tr>\n",
       "    <tr>\n",
       "      <th>std</th>\n",
       "      <td>6.707351</td>\n",
       "      <td>1.202909</td>\n",
       "      <td>1.282430</td>\n",
       "      <td>100.273952</td>\n",
       "      <td>2.384491e+04</td>\n",
       "      <td>7.778523</td>\n",
       "      <td>6.707970</td>\n",
       "      <td>109.508001</td>\n",
       "      <td>1.342723</td>\n",
       "      <td>4.044036</td>\n",
       "      <td>...</td>\n",
       "      <td>7.249022</td>\n",
       "      <td>0.932427</td>\n",
       "      <td>6.338601</td>\n",
       "      <td>7.106563e+04</td>\n",
       "      <td>43.821146</td>\n",
       "      <td>2279.713700</td>\n",
       "      <td>113.225922</td>\n",
       "      <td>588.711967</td>\n",
       "      <td>0.244648</td>\n",
       "      <td>1392.049260</td>\n",
       "    </tr>\n",
       "    <tr>\n",
       "      <th>min</th>\n",
       "      <td>-463.890000</td>\n",
       "      <td>0.000000</td>\n",
       "      <td>-72.067000</td>\n",
       "      <td>0.000000</td>\n",
       "      <td>-1.076400e+06</td>\n",
       "      <td>-463.890000</td>\n",
       "      <td>-463.890000</td>\n",
       "      <td>-3.735100</td>\n",
       "      <td>0.000191</td>\n",
       "      <td>-71.444000</td>\n",
       "      <td>...</td>\n",
       "      <td>-468.670000</td>\n",
       "      <td>-0.085920</td>\n",
       "      <td>-184.980000</td>\n",
       "      <td>-1.244000e+01</td>\n",
       "      <td>-0.092493</td>\n",
       "      <td>0.000000</td>\n",
       "      <td>0.000000</td>\n",
       "      <td>-3.726500</td>\n",
       "      <td>0.000000</td>\n",
       "      <td>1071.000000</td>\n",
       "    </tr>\n",
       "    <tr>\n",
       "      <th>25%</th>\n",
       "      <td>0.004047</td>\n",
       "      <td>0.254670</td>\n",
       "      <td>0.044923</td>\n",
       "      <td>1.099200</td>\n",
       "      <td>-4.312000e+01</td>\n",
       "      <td>0.000000</td>\n",
       "      <td>0.005985</td>\n",
       "      <td>0.481588</td>\n",
       "      <td>1.015600</td>\n",
       "      <td>0.318990</td>\n",
       "      <td>...</td>\n",
       "      <td>0.015574</td>\n",
       "      <td>0.876940</td>\n",
       "      <td>0.000000</td>\n",
       "      <td>5.298300e+00</td>\n",
       "      <td>4.229925</td>\n",
       "      <td>45.065750</td>\n",
       "      <td>3.074350</td>\n",
       "      <td>2.114850</td>\n",
       "      <td>0.000000</td>\n",
       "      <td>2296.250000</td>\n",
       "    </tr>\n",
       "    <tr>\n",
       "      <th>50%</th>\n",
       "      <td>0.046487</td>\n",
       "      <td>0.451495</td>\n",
       "      <td>0.218560</td>\n",
       "      <td>1.642300</td>\n",
       "      <td>3.673450e-01</td>\n",
       "      <td>0.000000</td>\n",
       "      <td>0.056685</td>\n",
       "      <td>1.149000</td>\n",
       "      <td>1.140500</td>\n",
       "      <td>0.522325</td>\n",
       "      <td>...</td>\n",
       "      <td>0.108940</td>\n",
       "      <td>0.950825</td>\n",
       "      <td>0.006320</td>\n",
       "      <td>9.038900e+00</td>\n",
       "      <td>6.176800</td>\n",
       "      <td>73.879500</td>\n",
       "      <td>4.928700</td>\n",
       "      <td>4.077200</td>\n",
       "      <td>0.000000</td>\n",
       "      <td>3500.500000</td>\n",
       "    </tr>\n",
       "    <tr>\n",
       "      <th>75%</th>\n",
       "      <td>0.116730</td>\n",
       "      <td>0.662178</td>\n",
       "      <td>0.420153</td>\n",
       "      <td>2.929200</td>\n",
       "      <td>4.986775e+01</td>\n",
       "      <td>0.110470</td>\n",
       "      <td>0.136025</td>\n",
       "      <td>2.781300</td>\n",
       "      <td>1.814050</td>\n",
       "      <td>0.721823</td>\n",
       "      <td>...</td>\n",
       "      <td>0.240262</td>\n",
       "      <td>0.990358</td>\n",
       "      <td>0.206915</td>\n",
       "      <td>1.720750e+01</td>\n",
       "      <td>9.302800</td>\n",
       "      <td>118.597500</td>\n",
       "      <td>8.067850</td>\n",
       "      <td>9.187600</td>\n",
       "      <td>0.000000</td>\n",
       "      <td>4704.750000</td>\n",
       "    </tr>\n",
       "    <tr>\n",
       "      <th>max</th>\n",
       "      <td>2.352300</td>\n",
       "      <td>72.416000</td>\n",
       "      <td>28.336000</td>\n",
       "      <td>6845.800000</td>\n",
       "      <td>1.250100e+06</td>\n",
       "      <td>203.150000</td>\n",
       "      <td>2.352300</td>\n",
       "      <td>6868.500000</td>\n",
       "      <td>37.807000</td>\n",
       "      <td>266.860000</td>\n",
       "      <td>...</td>\n",
       "      <td>87.981000</td>\n",
       "      <td>47.788000</td>\n",
       "      <td>308.150000</td>\n",
       "      <td>4.818700e+06</td>\n",
       "      <td>1308.500000</td>\n",
       "      <td>127450.000000</td>\n",
       "      <td>7641.300000</td>\n",
       "      <td>28999.000000</td>\n",
       "      <td>1.000000</td>\n",
       "      <td>5909.000000</td>\n",
       "    </tr>\n",
       "  </tbody>\n",
       "</table>\n",
       "<p>8 rows × 66 columns</p>\n",
       "</div>"
      ],
      "text/plain": [
       "                X1           X2           X3           X4            X5  \\\n",
       "count  4816.000000  4816.000000  4816.000000  4803.000000  4.808000e+03   \n",
       "mean     -0.055232     0.533272     0.188992     4.978602  1.956441e+01   \n",
       "std       6.707351     1.202909     1.282430   100.273952  2.384491e+04   \n",
       "min    -463.890000     0.000000   -72.067000     0.000000 -1.076400e+06   \n",
       "25%       0.004047     0.254670     0.044923     1.099200 -4.312000e+01   \n",
       "50%       0.046487     0.451495     0.218560     1.642300  3.673450e-01   \n",
       "75%       0.116730     0.662178     0.420153     2.929200  4.986775e+01   \n",
       "max       2.352300    72.416000    28.336000  6845.800000  1.250100e+06   \n",
       "\n",
       "                X6           X7           X8           X9          X10  ...  \\\n",
       "count  4816.000000  4816.000000  4804.000000  4818.000000  4816.000000  ...   \n",
       "mean     -0.070060    -0.042516     5.739985     1.579277     0.503606  ...   \n",
       "std       7.778523     6.707970   109.508001     1.342723     4.044036  ...   \n",
       "min    -463.890000  -463.890000    -3.735100     0.000191   -71.444000  ...   \n",
       "25%       0.000000     0.005985     0.481588     1.015600     0.318990  ...   \n",
       "50%       0.000000     0.056685     1.149000     1.140500     0.522325  ...   \n",
       "75%       0.110470     0.136025     2.781300     1.814050     0.721823  ...   \n",
       "max     203.150000     2.352300  6868.500000    37.807000   266.860000  ...   \n",
       "\n",
       "               X57          X58          X59           X60          X61  \\\n",
       "count  4816.000000  4818.000000  4816.000000  4.598000e+03  4806.000000   \n",
       "mean      0.022793     0.959585     0.273025  1.108795e+03    11.021303   \n",
       "std       7.249022     0.932427     6.338601  7.106563e+04    43.821146   \n",
       "min    -468.670000    -0.085920  -184.980000 -1.244000e+01    -0.092493   \n",
       "25%       0.015574     0.876940     0.000000  5.298300e+00     4.229925   \n",
       "50%       0.108940     0.950825     0.006320  9.038900e+00     6.176800   \n",
       "75%       0.240262     0.990358     0.206915  1.720750e+01     9.302800   \n",
       "max      87.981000    47.788000   308.150000  4.818700e+06  1308.500000   \n",
       "\n",
       "                 X62          X63           X64     Bankrupt           Id  \n",
       "count    4818.000000  4803.000000   4735.000000  4818.000000  4818.000000  \n",
       "mean      177.494445     9.287631     38.557533     0.063927  3499.858032  \n",
       "std      2279.713700   113.225922    588.711967     0.244648  1392.049260  \n",
       "min         0.000000     0.000000     -3.726500     0.000000  1071.000000  \n",
       "25%        45.065750     3.074350      2.114850     0.000000  2296.250000  \n",
       "50%        73.879500     4.928700      4.077200     0.000000  3500.500000  \n",
       "75%       118.597500     8.067850      9.187600     0.000000  4704.750000  \n",
       "max    127450.000000  7641.300000  28999.000000     1.000000  5909.000000  \n",
       "\n",
       "[8 rows x 66 columns]"
      ]
     },
     "execution_count": 5,
     "metadata": {},
     "output_type": "execute_result"
    }
   ],
   "source": [
    "data.describe()"
   ]
  },
  {
   "cell_type": "markdown",
   "metadata": {},
   "source": [
    "### The meaning of each attribute"
   ]
  },
  {
   "cell_type": "raw",
   "metadata": {},
   "source": [
    "Attribute Information:\n",
    "\n",
    "Id Company Identifier \n",
    "X1 net profit / total assets\n",
    "X2 total liabilities / total assets\n",
    "X3 working capital / total assets\n",
    "X4 current assets / short-term liabilities\n",
    "X5 [(cash + short-term securities + receivables - short-term liabilities) / (operating expenses - depreciation)] * 365\n",
    "X6 retained earnings / total assets\n",
    "X7 EBIT / total assets\n",
    "X8 book value of equity / total liabilities\n",
    "X9 sales / total assets\n",
    "X10 equity / total assets\n",
    "X11 (gross profit + extraordinary items + financial expenses) / total assets\n",
    "X12 gross profit / short-term liabilities\n",
    "X13 (gross profit + depreciation) / sales\n",
    "X14 (gross profit + interest) / total assets\n",
    "X15 (total liabilities * 365) / (gross profit + depreciation)\n",
    "X16 (gross profit + depreciation) / total liabilities\n",
    "X17 total assets / total liabilities\n",
    "X18 gross profit / total assets\n",
    "X19 gross profit / sales\n",
    "X20 (inventory * 365) / sales\n",
    "X21 sales (n) / sales (n-1)\n",
    "X22 profit on operating activities / total assets\n",
    "X23 net profit / sales\n",
    "X24 gross profit (in 3 years) / total assets\n",
    "X25 (equity - share capital) / total assets\n",
    "X26 (net profit + depreciation) / total liabilities\n",
    "X27 profit on operating activities / financial expenses\n",
    "X28 working capital / fixed assets\n",
    "X29 logarithm of total assets\n",
    "X30 (total liabilities - cash) / sales\n",
    "X31 (gross profit + interest) / sales\n",
    "X32 (current liabilities * 365) / cost of products sold\n",
    "X33 operating expenses / short-term liabilities\n",
    "X34 operating expenses / total liabilities\n",
    "X35 profit on sales / total assets\n",
    "X36 total sales / total assets\n",
    "X37 (current assets - inventories) / long-term liabilities\n",
    "X38 constant capital / total assets\n",
    "X39 profit on sales / sales\n",
    "X40 (current assets - inventory - receivables) / short-term liabilities\n",
    "X41 total liabilities / ((profit on operating activities + depreciation) * (12/365))\n",
    "X42 profit on operating activities / sales\n",
    "X43 rotation receivables + inventory turnover in days\n",
    "X44 (receivables * 365) / sales\n",
    "X45 net profit / inventory\n",
    "X46 (current assets - inventory) / short-term liabilities\n",
    "X47 (inventory * 365) / cost of products sold\n",
    "X48 EBITDA (profit on operating activities - depreciation) / total assets\n",
    "X49 EBITDA (profit on operating activities - depreciation) / sales\n",
    "X50 current assets / total liabilities\n",
    "X51 short-term liabilities / total assets\n",
    "X52 (short-term liabilities * 365) / cost of products sold)\n",
    "X53 equity / fixed assets\n",
    "X54 constant capital / fixed assets\n",
    "X55 working capital\n",
    "X56 (sales - cost of products sold) / sales\n",
    "X57 (current assets - inventory - short-term liabilities) / (sales - gross profit - depreciation)\n",
    "X58 total costs /total sales\n",
    "X59 long-term liabilities / equity\n",
    "X60 sales / inventory\n",
    "X61 sales / receivables\n",
    "X62 (short-term liabilities *365) / sales\n",
    "X63 sales / short-term liabilities\n",
    "X64 sales / fixed assets\n",
    "\n"
   ]
  },
  {
   "cell_type": "markdown",
   "metadata": {},
   "source": [
    "From the above, we get the information\n",
    "- There are 4818 examples, 64 features.\n",
    "- Most features have some missing values.\n",
    "- There are about 308 examples of bankrupt, and 4510 examples of nonbankrupt. The data is significantly imbalanced."
   ]
  },
  {
   "cell_type": "markdown",
   "metadata": {},
   "source": [
    "## A.3 Define the performance measure\n",
    "\n",
    "Since the imbalance of the data, we use combination of precision and recall to measure the performance as well."
   ]
  },
  {
   "cell_type": "markdown",
   "metadata": {},
   "source": [
    "## A.4 Set the test set\n",
    "\n",
    "Set 90% of examples to be train data, 10% to be test data.\n",
    "\n",
    "Random state set to be 42."
   ]
  },
  {
   "cell_type": "code",
   "execution_count": 6,
   "metadata": {},
   "outputs": [
    {
     "data": {
      "text/plain": [
       "((4336, 64), (482, 64))"
      ]
     },
     "execution_count": 6,
     "metadata": {},
     "output_type": "execute_result"
    },
    {
     "data": {
      "text/plain": [
       "((4336,), (482,))"
      ]
     },
     "execution_count": 6,
     "metadata": {},
     "output_type": "execute_result"
    }
   ],
   "source": [
    "from sklearn.model_selection import train_test_split\n",
    "X=data.drop(columns=['Bankrupt','Id'])\n",
    "y=data['Bankrupt']\n",
    "X_train,X_test,y_train,y_test=train_test_split(X,y, test_size=0.10, random_state=42)\n",
    "\n",
    "X_train.shape, X_test.shape\n",
    "y_train.shape, y_test.shape"
   ]
  },
  {
   "cell_type": "markdown",
   "metadata": {},
   "source": [
    "# Recipe Step B: Exploratory Data Analysis (EDA)\n",
    "\n",
    "## Visualization\n",
    "\n",
    "Firstly, the number of features is large and there are some features correlated to each other. Having a glance at the correlation might be helpful for understanding the relationships among features."
   ]
  },
  {
   "cell_type": "code",
   "execution_count": 7,
   "metadata": {},
   "outputs": [
    {
     "data": {
      "text/plain": [
       "<matplotlib.axes._subplots.AxesSubplot at 0x11e232460>"
      ]
     },
     "execution_count": 7,
     "metadata": {},
     "output_type": "execute_result"
    },
    {
     "data": {
      "image/png": "[encoded data removed]",
      "text/plain": [
       "<Figure size 1080x1080 with 2 Axes>"
      ]
     },
     "metadata": {
      "needs_background": "light"
     },
     "output_type": "display_data"
    }
   ],
   "source": [
    "import seaborn as sns\n",
    "correlation=data.corr()\n",
    "f, ax=plt.subplots(figsize=(15,15))\n",
    "sns.heatmap(correlation,ax=ax,linewidths=0.1)"
   ]
  },
  {
   "cell_type": "markdown",
   "metadata": {},
   "source": [
    "# Recipe Step C: Prepare the data\n",
    "\n",
    "## C1: Data Cleaning\n",
    "\n",
    "- There exists many ? in the data which need to be cleaned or relapced.\n",
    "- Drop X37 beacause of large number of missing values\n",
    "\n",
    "## C2: Handling non-numeric features/targets\n",
    "\n",
    "- Transfer the object features to numerical features.\n",
    "\n",
    "## C3: Transformations\n",
    "\n",
    "- Missing values are imputed from median of the remaining companies.\n",
    "- Use class weight in sklearn to deal with imbalanced data \n",
    "- Need to decrease the dimension of features, and construct a new principal features vector.\n",
    "\n",
    "## C4: Scaling\n",
    "\n",
    "- If our model is sensitive to scaling of the data, need to scale our data\n"
   ]
  },
  {
   "cell_type": "code",
   "execution_count": 8,
   "metadata": {},
   "outputs": [],
   "source": [
    "from sklearn.decomposition import PCA\n",
    "from sklearn import pipeline\n",
    "from sklearn.impute import SimpleImputer\n",
    "from sklearn.metrics import plot_confusion_matrix\n",
    "from sklearn.preprocessing import StandardScaler"
   ]
  },
  {
   "cell_type": "code",
   "execution_count": 9,
   "metadata": {},
   "outputs": [],
   "source": [
    "#Delete X37 because of large number of missing values\n",
    "del X_train['X37']"
   ]
  },
  {
   "cell_type": "markdown",
   "metadata": {},
   "source": [
    "### PCA Analysis"
   ]
  },
  {
   "cell_type": "code",
   "execution_count": 10,
   "metadata": {},
   "outputs": [
    {
     "data": {
      "text/plain": [
       "Pipeline(steps=[('median_imputation', SimpleImputer(strategy='median')),\n",
       "                ('Dimension_Reduction', PCA(n_components=60)),\n",
       "                ('scaler', StandardScaler())])"
      ]
     },
     "execution_count": 10,
     "metadata": {},
     "output_type": "execute_result"
    },
    {
     "data": {
      "text/plain": [
       "[<matplotlib.lines.Line2D at 0x1209c68e0>]"
      ]
     },
     "execution_count": 10,
     "metadata": {},
     "output_type": "execute_result"
    },
    {
     "data": {
      "text/plain": [
       "Text(0.5, 0, 'number of components')"
      ]
     },
     "execution_count": 10,
     "metadata": {},
     "output_type": "execute_result"
    },
    {
     "data": {
      "text/plain": [
       "Text(0, 0.5, 'cumulative explained variance')"
      ]
     },
     "execution_count": 10,
     "metadata": {},
     "output_type": "execute_result"
    },
    {
     "data": {
      "image/png": "[encoded data removed]",
      "text/plain": [
       "<Figure size 432x288 with 1 Axes>"
      ]
     },
     "metadata": {
      "needs_background": "light"
     },
     "output_type": "display_data"
    }
   ],
   "source": [
    "# Transformation of Imputation and PCA\n",
    "imputed_features=SimpleImputer(strategy='median')\n",
    "pca=PCA(n_components=60)\n",
    "scaler=StandardScaler()\n",
    "preprocess_pipeline=pipeline.Pipeline([('median_imputation',imputed_features),\n",
    "                             ('Dimension_Reduction', pca),\n",
    "                                       ('scaler',scaler)])\n",
    "preprocess_pipeline.fit(X_train)\n",
    "plt.plot(np.cumsum(pca.explained_variance_ratio_))\n",
    "plt.xlabel('number of components')\n",
    "plt.ylabel('cumulative explained variance')"
   ]
  },
  {
   "cell_type": "markdown",
   "metadata": {},
   "source": [
    "It seems that if we want to achieve 99% of variance to be explained, the numebr of components should be around 5."
   ]
  },
  {
   "cell_type": "code",
   "execution_count": 11,
   "metadata": {},
   "outputs": [
    {
     "data": {
      "text/plain": [
       "Pipeline(steps=[('median_imputation', SimpleImputer(strategy='median')),\n",
       "                ('Dimension_Reduction', PCA(n_components=5)),\n",
       "                ('scaler', StandardScaler())])"
      ]
     },
     "execution_count": 11,
     "metadata": {},
     "output_type": "execute_result"
    },
    {
     "data": {
      "text/plain": [
       "[<matplotlib.lines.Line2D at 0x120e15670>]"
      ]
     },
     "execution_count": 11,
     "metadata": {},
     "output_type": "execute_result"
    },
    {
     "data": {
      "text/plain": [
       "Text(0.5, 0, 'number of components')"
      ]
     },
     "execution_count": 11,
     "metadata": {},
     "output_type": "execute_result"
    },
    {
     "data": {
      "text/plain": [
       "Text(0, 0.5, 'cumulative explained variance')"
      ]
     },
     "execution_count": 11,
     "metadata": {},
     "output_type": "execute_result"
    },
    {
     "data": {
      "image/png": "[encoded data removed]",
      "text/plain": [
       "<Figure size 432x288 with 1 Axes>"
      ]
     },
     "metadata": {
      "needs_background": "light"
     },
     "output_type": "display_data"
    }
   ],
   "source": [
    "imputed_features=SimpleImputer(strategy='median')\n",
    "pca=PCA(n_components=5)\n",
    "preprocess_pipeline=pipeline.Pipeline([('median_imputation',imputed_features),\n",
    "                             ('Dimension_Reduction', pca),\n",
    "                                       ('scaler',scaler)])\n",
    "preprocess_pipeline.fit(X_train)\n",
    "plt.plot(np.cumsum(pca.explained_variance_ratio_))\n",
    "plt.xlabel('number of components')\n",
    "plt.ylabel('cumulative explained variance')"
   ]
  },
  {
   "cell_type": "markdown",
   "metadata": {},
   "source": [
    "# Recipe Step D: Modeling\n",
    "\n",
    "## Use SVM, Logistic Regression and Random Forest to fit\n",
    "\n",
    "- Perform all the transformations mentioned in the previous section.\n",
    "- For random forest classifier, choose number of trees to be 200, max depth to be 3 to create an ensemble of weak learners.\n",
    "\n",
    "### Trade off between Recall and Precision for random forest\n",
    "- For random forest, I adjusted n_estimators and max_depth to reduce overfitting and make recall bigger than precision, also keep a decent overall accuracy score at the same time."
   ]
  },
  {
   "cell_type": "code",
   "execution_count": 12,
   "metadata": {},
   "outputs": [],
   "source": [
    "from sklearn import svm\n",
    "from sklearn.metrics import accuracy_score, recall_score, precision_score, confusion_matrix, precision_recall_curve\n",
    "from sklearn import linear_model\n",
    "from sklearn.ensemble import RandomForestClassifier\n",
    "from sklearn.model_selection import cross_val_score"
   ]
  },
  {
   "cell_type": "code",
   "execution_count": 13,
   "metadata": {
    "scrolled": false
   },
   "outputs": [
    {
     "data": {
      "text/plain": [
       "Text(0.5, 1.0, 'Logistic')"
      ]
     },
     "execution_count": 13,
     "metadata": {},
     "output_type": "execute_result"
    },
    {
     "name": "stdout",
     "output_type": "stream",
     "text": [
      "Model: Logistic avg cross val score=0.54\n",
      "\n",
      "Model: Logistic score in sample=0.54\n",
      "\n",
      "Model: Logistic recall in sample=0.85\n",
      "\n",
      "Model: Logistic precision in sample=0.11\n",
      "\n",
      "Model: Logistic\n",
      "[[2104 1957]\n",
      " [  40  235]]\n"
     ]
    },
    {
     "data": {
      "text/plain": [
       "Text(0.5, 1.0, 'SVM')"
      ]
     },
     "execution_count": 13,
     "metadata": {},
     "output_type": "execute_result"
    },
    {
     "name": "stdout",
     "output_type": "stream",
     "text": [
      "Model: SVM avg cross val score=0.65\n",
      "\n",
      "Model: SVM score in sample=0.67\n",
      "\n",
      "Model: SVM recall in sample=0.74\n",
      "\n",
      "Model: SVM precision in sample=0.13\n",
      "\n",
      "Model: SVM\n",
      "[[2681 1380]\n",
      " [  72  203]]\n"
     ]
    },
    {
     "data": {
      "text/plain": [
       "Text(0.5, 1.0, 'Random Forest')"
      ]
     },
     "execution_count": 13,
     "metadata": {},
     "output_type": "execute_result"
    },
    {
     "name": "stdout",
     "output_type": "stream",
     "text": [
      "Model: Random Forest avg cross val score=0.80\n",
      "\n",
      "Model: Random Forest score in sample=0.80\n",
      "\n",
      "Model: Random Forest recall in sample=0.74\n",
      "\n",
      "Model: Random Forest precision in sample=0.21\n",
      "\n",
      "Model: Random Forest\n",
      "[[3284  777]\n",
      " [  72  203]]\n"
     ]
    },
    {
     "data": {
      "image/png": "[encoded data removed]",
      "text/plain": [
       "<Figure size 432x288 with 2 Axes>"
      ]
     },
     "metadata": {
      "needs_background": "light"
     },
     "output_type": "display_data"
    },
    {
     "data": {
      "image/png": "[encoded data removed]",
      "text/plain": [
       "<Figure size 432x288 with 2 Axes>"
      ]
     },
     "metadata": {
      "needs_background": "light"
     },
     "output_type": "display_data"
    },
    {
     "data": {
      "image/png": "[encoded data removed]",
      "text/plain": [
       "<Figure size 432x288 with 2 Axes>"
      ]
     },
     "metadata": {
      "needs_background": "light"
     },
     "output_type": "display_data"
    }
   ],
   "source": [
    "svm_clf=svm.SVC(class_weight=\"balanced\")\n",
    "logistic_clf = linear_model.LogisticRegression(class_weight='balanced',solver='liblinear')\n",
    "forest_clf = RandomForestClassifier(n_estimators=200, max_depth=3, random_state=42,class_weight='balanced')\n",
    "\n",
    "for name, clf in { \"Logistic\": logistic_clf,\n",
    "                   \"SVM\": svm_clf,\n",
    "                   \"Random Forest\": forest_clf\n",
    "                 }.items():\n",
    "    imputed_features=SimpleImputer(strategy='median')\n",
    "    pca=PCA(n_components=5)\n",
    "    scaler=StandardScaler()\n",
    "    preprocess_pipeline=pipeline.Pipeline([('median_imputation',imputed_features),\n",
    "                             ('Dimension_Reduction', pca),\n",
    "                                       ('scaler',scaler)])\n",
    "    pipe=pipeline.Pipeline([('Preprocess',preprocess_pipeline),\n",
    "                       ('clf',clf)])\n",
    "    _= pipe.fit(X_train, y_train)\n",
    "    \n",
    "    scores = cross_val_score(pipe,X_train, y_train, cv=10)\n",
    "    accuracy_test = accuracy_score(y_train, pipe.predict(X_train))\n",
    "    recall_test = recall_score(y_train, pipe.predict(X_train), pos_label=1, average=\"binary\")\n",
    "    precision_test = precision_score(y_train, pipe.predict(X_train), pos_label=1, average=\"binary\")\n",
    "    disp=plot_confusion_matrix(clf, preprocess_pipeline.transform(X_train), y_train,\n",
    "                                 display_labels=[0,1],\n",
    "                                 cmap=plt.cm.Blues)\n",
    "    disp.ax_.set_title(name)\n",
    "    print(\"Model: {m:s} avg cross val score={s:3.2f}\\n\".format(m=name, s=scores.mean()) ,\n",
    "         \"Model: {m:s} score in sample={c:3.2f}\\n\".format(m=name,c=accuracy_test),\n",
    "         \"Model: {m:s} recall in sample={r:3.2f}\\n\".format(m=name,r=recall_test),\n",
    "         \"Model: {m:s} precision in sample={p:3.2f}\\n\".format(m=name,p=precision_test),\n",
    "         sep='\\n')\n",
    "    print(\"Model: {m:s}\".format(m=name))\n",
    "    print(disp.confusion_matrix)\n",
    "    \n"
   ]
  },
  {
   "cell_type": "markdown",
   "metadata": {},
   "source": [
    "## Out of sample socres\n",
    "Let's try the test set for each model."
   ]
  },
  {
   "cell_type": "code",
   "execution_count": 14,
   "metadata": {},
   "outputs": [
    {
     "name": "stdout",
     "output_type": "stream",
     "text": [
      "\tRandom Forest Model Accuracy: 80.1%, Recall 63.6%, Precision 20.0%\n"
     ]
    },
    {
     "data": {
      "text/plain": [
       "array([[365,  84],\n",
       "       [ 12,  21]])"
      ]
     },
     "execution_count": 14,
     "metadata": {},
     "output_type": "execute_result"
    }
   ],
   "source": [
    "def MyModel_forest(X):\n",
    "    # It should create an array of predictions; we initialize it to the empty array for convenience\n",
    "    predictions = []\n",
    "    \n",
    "    # YOUR CODE GOES HERE\n",
    "    \n",
    "    #Transfer the data type to numerics\n",
    "    X=X.apply(pd.to_numeric, errors='coerce')\n",
    "    #Delete X37 because of large number of missing values\n",
    "    X=X.drop(columns=['X37'])\n",
    "    # Transformation of Imputation and PCA\n",
    "    imputed_features=SimpleImputer(strategy='median')\n",
    "    pca=PCA(n_components=5)\n",
    "    scaler=StandardScaler()\n",
    "    forest_clf = RandomForestClassifier(n_estimators=200, max_depth=3, random_state=42,class_weight='balanced')\n",
    "    preprocess_pipeline=pipeline.Pipeline([('median_imputation',imputed_features),\n",
    "                             ('Dimension_Reduction', pca),\n",
    "                                       ('scaler',scaler)])\n",
    "    pipe=pipeline.Pipeline([('Preprocess',preprocess_pipeline),\n",
    "                       ('clf',forest_clf)])\n",
    "    _=pipe.fit(X_train, y_train)\n",
    "    predictions=pipe.predict(X)\n",
    "    \n",
    "    return predictions\n",
    "\n",
    "name = \"Random Forest Model\"\n",
    "y_test_pred = MyModel_forest(X_test)\n",
    "\n",
    "accuracy_test = accuracy_score(y_test, y_test_pred)\n",
    "recall_test = recall_score(y_test, y_test_pred, pos_label=1, average=\"binary\")\n",
    "precision_test = precision_score(y_test,   y_test_pred, pos_label=1, average=\"binary\")\n",
    "\n",
    "print(\"\\t{m:s} Accuracy: {a:3.1%}, Recall {r:3.1%}, Precision {p:3.1%}\".format(m=name,\n",
    "                                                                            a=accuracy_test,\n",
    "                                                                            r=recall_test,\n",
    "                                                                            p=precision_test\n",
    "                                                                            )\n",
    "         )\n",
    "confusion_matrix(y_test,y_test_pred)"
   ]
  },
  {
   "cell_type": "code",
   "execution_count": 15,
   "metadata": {},
   "outputs": [
    {
     "name": "stdout",
     "output_type": "stream",
     "text": [
      "\tSVM Accuracy: 62.9%, Recall 60.6%, Precision 10.8%\n"
     ]
    },
    {
     "data": {
      "text/plain": [
       "array([[283, 166],\n",
       "       [ 13,  20]])"
      ]
     },
     "execution_count": 15,
     "metadata": {},
     "output_type": "execute_result"
    }
   ],
   "source": [
    "def MyModel_svm(X):\n",
    "    # It should create an array of predictions; we initialize it to the empty array for convenience\n",
    "    predictions = []\n",
    "    \n",
    "    # YOUR CODE GOES HERE\n",
    "    \n",
    "    #Transfer the data type to numerics\n",
    "    X=X.apply(pd.to_numeric, errors='coerce')\n",
    "    #Delete X37 because of large number of missing values\n",
    "    X=X.drop(columns=['X37'])\n",
    "    # Transformation of Imputation and PCA\n",
    "    imputed_features=SimpleImputer(strategy='median')\n",
    "    pca=PCA(n_components=5)\n",
    "    scaler=StandardScaler()\n",
    "    svm_clf=svm.SVC(class_weight=\"balanced\")\n",
    "    preprocess_pipeline=pipeline.Pipeline([('median_imputation',imputed_features),\n",
    "                             ('Dimension_Reduction', pca),\n",
    "                                       ('scaler',scaler)])\n",
    "    pipe=pipeline.Pipeline([('Preprocess',preprocess_pipeline),\n",
    "                       ('clf',svm_clf)])\n",
    "    _=pipe.fit(X_train, y_train)\n",
    "    predictions=pipe.predict(X)\n",
    "    \n",
    "    return predictions\n",
    "\n",
    "name = \"SVM\"\n",
    "y_test_pred = MyModel_svm(X_test)\n",
    "\n",
    "accuracy_test = accuracy_score(y_test, y_test_pred)\n",
    "recall_test = recall_score(y_test, y_test_pred, pos_label=1, average=\"binary\")\n",
    "precision_test = precision_score(y_test,   y_test_pred, pos_label=1, average=\"binary\")\n",
    "\n",
    "print(\"\\t{m:s} Accuracy: {a:3.1%}, Recall {r:3.1%}, Precision {p:3.1%}\".format(m=name,\n",
    "                                                                            a=accuracy_test,\n",
    "                                                                            r=recall_test,\n",
    "                                                                            p=precision_test\n",
    "                                                                            )\n",
    "         )\n",
    "confusion_matrix(y_test,y_test_pred)"
   ]
  },
  {
   "cell_type": "code",
   "execution_count": 16,
   "metadata": {},
   "outputs": [
    {
     "name": "stdout",
     "output_type": "stream",
     "text": [
      "\tLogistic Accuracy: 51.7%, Recall 81.8%, Precision 10.6%\n"
     ]
    },
    {
     "data": {
      "text/plain": [
       "array([[222, 227],\n",
       "       [  6,  27]])"
      ]
     },
     "execution_count": 16,
     "metadata": {},
     "output_type": "execute_result"
    }
   ],
   "source": [
    "def MyModel_logistic(X):\n",
    "    # It should create an array of predictions; we initialize it to the empty array for convenience\n",
    "    predictions = []\n",
    "    \n",
    "    # YOUR CODE GOES HERE\n",
    "    \n",
    "    #Transfer the data type to numerics\n",
    "    X=X.apply(pd.to_numeric, errors='coerce')\n",
    "    #Delete X37 because of large number of missing values\n",
    "    X=X.drop(columns=['X37'])\n",
    "    # Transformation of Imputation and PCA\n",
    "    imputed_features=SimpleImputer(strategy='median')\n",
    "    pca=PCA(n_components=5)\n",
    "    scaler=StandardScaler()\n",
    "    logistic_clf = linear_model.LogisticRegression(class_weight='balanced',solver='liblinear')\n",
    "    preprocess_pipeline=pipeline.Pipeline([('median_imputation',imputed_features),\n",
    "                             ('Dimension_Reduction', pca),\n",
    "                                       ('scaler',scaler)])\n",
    "    pipe=pipeline.Pipeline([('Preprocess',preprocess_pipeline),\n",
    "                       ('clf',logistic_clf)])\n",
    "    _=pipe.fit(X_train, y_train)\n",
    "    predictions=pipe.predict(X)\n",
    "    \n",
    "    return predictions\n",
    "\n",
    "name = \"Logistic\"\n",
    "y_test_pred = MyModel_logistic(X_test)\n",
    "\n",
    "accuracy_test = accuracy_score(y_test, y_test_pred)\n",
    "recall_test = recall_score(y_test, y_test_pred, pos_label=1, average=\"binary\")\n",
    "precision_test = precision_score(y_test,   y_test_pred, pos_label=1, average=\"binary\")\n",
    "\n",
    "print(\"\\t{m:s} Accuracy: {a:3.1%}, Recall {r:3.1%}, Precision {p:3.1%}\".format(m=name,\n",
    "                                                                            a=accuracy_test,\n",
    "                                                                            r=recall_test,\n",
    "                                                                            p=precision_test\n",
    "                                                                            )\n",
    "         )\n",
    "confusion_matrix(y_test,y_test_pred)"
   ]
  },
  {
   "cell_type": "markdown",
   "metadata": {},
   "source": [
    "- Among three models, Random forest performs best overall speaking. In sample accuracy socre is the highest and the recall is good as well. It also satisfies that our assumption of it is 5 times worse to fail to identify a company that will go bankrupt than it is to fail to identify a company that won't go bankrupt, which implies Recall should be about 5 times larger than the Precision.\n",
    "- Still want to have a look at if there're other trade-off can be performanced on the other two model.\n",
    "- Tried on SVM and it didn't work. The result made no sense.\n",
    "- Try on the simple model Logistic Regression.\n",
    "\n",
    "### Trade off between recall and precision of Logistic Regression through changing threshhold\n"
   ]
  },
  {
   "cell_type": "code",
   "execution_count": 17,
   "metadata": {},
   "outputs": [
    {
     "data": {
      "text/plain": [
       "Text(0.5, 1.0, 'Precision-Recall vs Threshold Chart')"
      ]
     },
     "execution_count": 17,
     "metadata": {},
     "output_type": "execute_result"
    },
    {
     "data": {
      "text/plain": [
       "[<matplotlib.lines.Line2D at 0x11eb3abe0>]"
      ]
     },
     "execution_count": 17,
     "metadata": {},
     "output_type": "execute_result"
    },
    {
     "data": {
      "text/plain": [
       "[<matplotlib.lines.Line2D at 0x11eb3aeb0>]"
      ]
     },
     "execution_count": 17,
     "metadata": {},
     "output_type": "execute_result"
    },
    {
     "data": {
      "text/plain": [
       "Text(0, 0.5, 'Precision, Recall')"
      ]
     },
     "execution_count": 17,
     "metadata": {},
     "output_type": "execute_result"
    },
    {
     "data": {
      "text/plain": [
       "Text(0.5, 0, 'Threshold')"
      ]
     },
     "execution_count": 17,
     "metadata": {},
     "output_type": "execute_result"
    },
    {
     "data": {
      "text/plain": [
       "<matplotlib.legend.Legend at 0x11eb3adf0>"
      ]
     },
     "execution_count": 17,
     "metadata": {},
     "output_type": "execute_result"
    },
    {
     "data": {
      "text/plain": [
       "(0.0, 1.0)"
      ]
     },
     "execution_count": 17,
     "metadata": {},
     "output_type": "execute_result"
    },
    {
     "data": {
      "image/png": "[encoded data removed]",
      "text/plain": [
       "<Figure size 432x288 with 1 Axes>"
      ]
     },
     "metadata": {
      "needs_background": "light"
     },
     "output_type": "display_data"
    }
   ],
   "source": [
    "def MyModel_logistic(X):\n",
    "    # It should create an array of predictions; we initialize it to the empty array for convenience\n",
    "    predictions = []\n",
    "    \n",
    "    # YOUR CODE GOES HERE\n",
    "    \n",
    "    #Transfer the data type to numerics\n",
    "    X=X.apply(pd.to_numeric, errors='coerce')\n",
    "    #Delete X37 because of large number of missing values\n",
    "    X=X.drop(columns=['X37'])\n",
    "    # Transformation of Imputation and PCA\n",
    "    imputed_features=SimpleImputer(strategy='median')\n",
    "    pca=PCA(n_components=5)\n",
    "    scaler=StandardScaler()\n",
    "    logistic_clf = linear_model.LogisticRegression(class_weight='balanced',solver='liblinear')\n",
    "    preprocess_pipeline=pipeline.Pipeline([('median_imputation',imputed_features),\n",
    "                             ('Dimension_Reduction', pca),\n",
    "                                       ('scaler',scaler)])\n",
    "    pipe=pipeline.Pipeline([('Preprocess',preprocess_pipeline),\n",
    "                       ('clf',logistic_clf)])\n",
    "    _=pipe.fit(X_train, y_train)\n",
    "    predictions=pipe.predict_proba(X)\n",
    "    \n",
    "    return predictions\n",
    "\n",
    "name = \"Logistic\"\n",
    "y_test_pred = MyModel_logistic(X_test)[:,1] \n",
    "precision, recall, thresholds = precision_recall_curve(y_test, y_test_pred) \n",
    "\n",
    "\n",
    "plt.title(\"Precision-Recall vs Threshold Chart\")\n",
    "plt.plot(thresholds, precision[: -1], \"b--\", label=\"Precision\")\n",
    "plt.plot(thresholds, recall[: -1], \"r--\", label=\"Recall\")\n",
    "plt.ylabel(\"Precision, Recall\")\n",
    "plt.xlabel(\"Threshold\")\n",
    "plt.legend(loc=\"lower left\")\n",
    "plt.ylim([0,1])"
   ]
  },
  {
   "cell_type": "code",
   "execution_count": 18,
   "metadata": {},
   "outputs": [
    {
     "name": "stdout",
     "output_type": "stream",
     "text": [
      "\tLogistic Accuracy: 72.4%, Recall 54.5%, Precision 13.2%\n"
     ]
    },
    {
     "data": {
      "text/plain": [
       "array([[331, 118],\n",
       "       [ 15,  18]])"
      ]
     },
     "execution_count": 18,
     "metadata": {},
     "output_type": "execute_result"
    }
   ],
   "source": [
    "logistic_clf = linear_model.LogisticRegression(class_weight='balanced',solver='liblinear')\n",
    "imputed_features=SimpleImputer(strategy='median')\n",
    "pca=PCA(n_components=5)\n",
    "scaler=StandardScaler()\n",
    "preprocess_pipeline=pipeline.Pipeline([('median_imputation',imputed_features),\n",
    "                             ('Dimension_Reduction', pca),\n",
    "                                       ('scaler',scaler)])\n",
    "pipe=pipeline.Pipeline([('Preprocess',preprocess_pipeline),\n",
    "                       ('clf',logistic_clf)])\n",
    "_=pipe.fit(X_train, y_train)\n",
    "#Adjust the threshold\n",
    "y_test_pred=np.where(pipe.predict_proba(X_test.drop(columns=['X37']))[:,1]>=0.517,1,0)\n",
    "\n",
    "accuracy_test = accuracy_score(y_test, y_test_pred)\n",
    "recall_test = recall_score(y_test, y_test_pred, pos_label=1, average=\"binary\")\n",
    "precision_test = precision_score(y_test,   y_test_pred, pos_label=1, average=\"binary\")\n",
    "\n",
    "print(\"\\t{m:s} Accuracy: {a:3.1%}, Recall {r:3.1%}, Precision {p:3.1%}\".format(m=name,\n",
    "                                                                            a=accuracy_test,\n",
    "                                                                            r=recall_test,\n",
    "                                                                            p=precision_test\n",
    "                                                                            )\n",
    "         )\n",
    "confusion_matrix(y_test,y_test_pred)"
   ]
  },
  {
   "cell_type": "markdown",
   "metadata": {},
   "source": [
    "- Adjusted the threshold according to the Precision and Recall Plot, achieved higher out of sample accuracy score but decrese the recall.\n",
    "- Logistic Regression still underperform the Random Forest.\n",
    "- Choose Random Forest to be the final model used to predict bankruptcy.\n",
    "\n",
    "## Error Analysis\n",
    "\n",
    "- Using other methods of dealing with imbalanced data, such as SMOTE might achieve a better performance.\n",
    "- Maybe a more sophisticated feature engineering process, such as dealing with missing value by random forest can increase the overall accuracy score and a better recall precision."
   ]
  },
  {
   "cell_type": "markdown",
   "metadata": {},
   "source": [
    "# Final Model"
   ]
  },
  {
   "cell_type": "code",
   "execution_count": 19,
   "metadata": {},
   "outputs": [],
   "source": [
    "def MyModel(X):\n",
    "    # It should create an array of predictions; we initialize it to the empty array for convenience\n",
    "    predictions = []\n",
    "    \n",
    "    # YOUR CODE GOES HERE\n",
    "    \n",
    "    #Transfer the data type to numerics\n",
    "    X=X.apply(pd.to_numeric, errors='coerce')\n",
    "    #Delete X37 because of large number of missing values\n",
    "    X=X.drop(columns=['X37'])\n",
    "    #Preparation\n",
    "    imputed_features=SimpleImputer(strategy='median')\n",
    "    pca=PCA(n_components=5)\n",
    "    scaler=StandardScaler()\n",
    "    forest_clf = RandomForestClassifier(n_estimators=200, max_depth=3, random_state=42,class_weight='balanced')\n",
    "    #Transformation and model pipeline\n",
    "    preprocess_pipeline=pipeline.Pipeline([('median_imputation',imputed_features),\n",
    "                             ('Dimension_Reduction', pca),\n",
    "                                       ('scaler',scaler)])\n",
    "    pipe=pipeline.Pipeline([('Preprocess',preprocess_pipeline),\n",
    "                       ('clf',forest_clf)])\n",
    "    #Fit\n",
    "    _=pipe.fit(X_train, y_train)\n",
    "    #Predict\n",
    "    predictions=pipe.predict(X)\n",
    "    \n",
    "    return predictions"
   ]
  },
  {
   "cell_type": "code",
   "execution_count": 20,
   "metadata": {},
   "outputs": [
    {
     "name": "stdout",
     "output_type": "stream",
     "text": [
      "\tRandom Forest Calssifier for Bankruptcy Accuracy: 80.1%, Recall 63.6%, Precision 20.0%\n"
     ]
    }
   ],
   "source": [
    "name = \"Random Forest Calssifier for Bankruptcy\"\n",
    "y_test_pred = MyModel(X_test)\n",
    "\n",
    "accuracy_test = accuracy_score(y_test, y_test_pred)\n",
    "recall_test = recall_score(y_test, y_test_pred, pos_label=1, average=\"binary\")\n",
    "precision_test = precision_score(y_test,   y_test_pred, pos_label=1, average=\"binary\")\n",
    "\n",
    "print(\"\\t{m:s} Accuracy: {a:3.1%}, Recall {r:3.1%}, Precision {p:3.1%}\".format(m=name,\n",
    "                                                                            a=accuracy_test,\n",
    "                                                                            r=recall_test,\n",
    "                                                                            p=precision_test\n",
    "                                                                            )\n",
    "         )"
   ]
  },
  {
   "cell_type": "raw",
   "metadata": {},
   "source": [
    "X_hold = pd.read_csv( os.path.join(DATA_DIR, \"holdout\", '5th_yr.csv') )\n",
    "\n",
    "# Predict using MyModel\n",
    "y_hold_pred = MyModel(X_hold)\n",
    "\n",
    "# Compute metrics\n",
    "# accuracy\n",
    "accuracy_hold = accuracy_score(y_hold, y_hold_pred)\n",
    "\n",
    "# recall_\n",
    "recall_hold = recall_score(y_hold, y_hold_pred, pos_label=1, average=\"binary\")\n",
    "\n",
    "# precision\n",
    "precision_hold = precision_score(y_hold,   y_hold_pred, pos_label=1, average=\"binary\")\n",
    "\n",
    "\n",
    "print(\"\\t{m:s} Accuracy: {a:3.1%}, Recall {r:3.1%}, Precision {p:3.1%}\".format(m=name,\n",
    "                                                                            a=accuracy_hold,\n",
    "                                                                            r=recall_hold,\n",
    "                                                                            p=precision_hold\n",
    "                                                                            )\n",
    "         )"
   ]
  }
 ],
 "metadata": {
  "kernelspec": {
   "display_name": "Python 3",
   "language": "python",
   "name": "python3"
  },
  "language_info": {
   "codemirror_mode": {
    "name": "ipython",
    "version": 3
   },
   "file_extension": ".py",
   "mimetype": "text/x-python",
   "name": "python",
   "nbconvert_exporter": "python",
   "pygments_lexer": "ipython3",
   "version": "3.8.3"
  }
 },
 "nbformat": 4,
 "nbformat_minor": 4
}
