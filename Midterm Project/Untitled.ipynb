{
 "cells": [
  {
   "cell_type": "code",
   "execution_count": 1,
   "metadata": {},
   "outputs": [],
   "source": [
    "import math\n",
    "from collections import Counter\n",
    "import numpy as np"
   ]
  },
  {
   "cell_type": "code",
   "execution_count": null,
   "metadata": {},
   "outputs": [],
   "source": [
    "a=[14,15,15,14,13,19,21,10]\n",
    "def frecal(a):\n",
    "    k=math.ceil(np.log(len(a))/np.log(2))\n",
    "    counter=Counter(a)\n",
    "    total_count = sum(counter.values())\n",
    "    relative = {}\n",
    "    width=(max(a)-min(a))/k\n",
    "    ans=np.zeros(k,dtype=float)\n",
    "    for key in counter:\n",
    "        relative[key] = counter[key] / total_count\n",
    "    for key in relative:\n",
    "        for m in range(k):\n",
    "            while key>=(min(a)+m*width) and key<(min(a)+(m+1)*width):\n",
    "                ans[m]+=relative[key]\n",
    "    return(ans)\n",
    "frecal(a)"
   ]
  },
  {
   "cell_type": "code",
   "execution_count": null,
   "metadata": {},
   "outputs": [],
   "source": []
  }
 ],
 "metadata": {
  "kernelspec": {
   "display_name": "Python 3",
   "language": "python",
   "name": "python3"
  },
  "language_info": {
   "codemirror_mode": {
    "name": "ipython",
    "version": 3
   },
   "file_extension": ".py",
   "mimetype": "text/x-python",
   "name": "python",
   "nbconvert_exporter": "python",
   "pygments_lexer": "ipython3",
   "version": "3.8.3"
  }
 },
 "nbformat": 4,
 "nbformat_minor": 4
}
